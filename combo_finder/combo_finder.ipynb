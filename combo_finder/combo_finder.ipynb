{
  "nbformat": 4,
  "nbformat_minor": 0,
  "metadata": {
    "colab": {
      "provenance": [],
      "toc_visible": true,
      "include_colab_link": true
    },
    "kernelspec": {
      "name": "python3",
      "display_name": "Python 3"
    },
    "language_info": {
      "name": "python"
    }
  },
  "cells": [
    {
      "cell_type": "markdown",
      "metadata": {
        "id": "view-in-github",
        "colab_type": "text"
      },
      "source": [
        "<a href=\"https://colab.research.google.com/github/HarshataGarg/Combo-Finder/blob/main/combo_finder/combo_finder.ipynb\" target=\"_parent\"><img src=\"https://colab.research.google.com/assets/colab-badge.svg\" alt=\"Open In Colab\"/></a>"
      ]
    },
    {
      "cell_type": "markdown",
      "source": [
        "ComboFinder\n",
        "Problem Statement:\n",
        "Find all the list of products whose sum-of-price is between 290 and 310.\n",
        "\n",
        "ProductList = {p1:10, p2:15, p3:20, p4:25, p5:30, p6:35, p7:50}\n",
        "1 Library inclusion"
      ],
      "metadata": {
        "id": "qfii9CFNPF08"
      }
    },
    {
      "cell_type": "code",
      "source": [
        "import random as r"
      ],
      "metadata": {
        "id": "73oL_M3-PJSh"
      },
      "execution_count": 1,
      "outputs": []
    },
    {
      "cell_type": "markdown",
      "source": [
        "2 Parameter Setting\n",
        "Read the productId-price file and convert to dictionary"
      ],
      "metadata": {
        "id": "hIpDtX4PPPqL"
      }
    },
    {
      "cell_type": "code",
      "source": [
        "ProductList = {'p1':10, 'p2':15, 'p3':20, 'p4':25, 'p5':30, 'p6':35, 'p7':50,\n",
        "               'p8':40, 'p9':55, 'p10':60, 'p11':65, 'p12':75, 'p13':70,\n",
        "               'p14':45}\n",
        "LB          = 290\n",
        "UB          = 310\n",
        "ResultList  = set()   # Store Result List i.e. list of sets whose sum is between 90 and 210.\n",
        "Iterations  = 1000    # Number of Inerations"
      ],
      "metadata": {
        "id": "oHqHdytMPVBD"
      },
      "execution_count": 2,
      "outputs": []
    },
    {
      "cell_type": "markdown",
      "source": [
        "Single Run"
      ],
      "metadata": {
        "id": "T0DzhJpYPd5U"
      }
    },
    {
      "cell_type": "code",
      "source": [
        "# Select combo size (i.e. number of products in a combo)\n",
        "SetSize = r.randint(2, len(ProductList)-1)\n",
        "print(\"Number of Product: \", SetSize)\n",
        "\n",
        "\n",
        "# Select number of elements from Set\n",
        "ComboList = r.sample(list(ProductList.keys()),SetSize)\n",
        "print(\"Product List     : \", ComboList)\n",
        "\n",
        "\n",
        "# Sum the products in ColboList\n",
        "ComboSum = sum([ ProductList[i] for i in ComboList])\n",
        "print(\"Sum of Product   : \", ComboSum)\n"
      ],
      "metadata": {
        "colab": {
          "base_uri": "https://localhost:8080/"
        },
        "id": "g_rTLIQPPkzM",
        "outputId": "1e7838df-df70-49f4-9f3e-e4eaf594b333"
      },
      "execution_count": 3,
      "outputs": [
        {
          "output_type": "stream",
          "name": "stdout",
          "text": [
            "Number of Product:  4\n",
            "Product List     :  ['p8', 'p3', 'p2', 'p7']\n",
            "Sum of Product   :  125\n"
          ]
        }
      ]
    },
    {
      "cell_type": "markdown",
      "source": [
        "3 Start Program"
      ],
      "metadata": {
        "id": "-D2Aj61CPqif"
      }
    },
    {
      "cell_type": "code",
      "source": [
        "# Loop till number of Iterations\n",
        "ResultList  = set()\n",
        "\n",
        "for i in range(Iterations):\n",
        "\n",
        "    # Select combo size (i.e. number of products in a combo)\n",
        "    SetSize = r.randint(2, len(ProductList)-1)\n",
        "\n",
        "    # Select number of elements from Set\n",
        "    ComboList = r.sample(list(ProductList.keys()),SetSize)\n",
        "\n",
        "    # Sum the products in ColboList\n",
        "    ComboSum = sum([ ProductList[i] for i in ComboList])\n",
        "\n",
        "    # Check the Sum Between LB and UB\n",
        "    if ComboSum>= LB and ComboSum<= UB:\n",
        "      ResultList.add(tuple(ComboList))\n",
        "\n",
        "print(\"Done\")"
      ],
      "metadata": {
        "colab": {
          "base_uri": "https://localhost:8080/"
        },
        "id": "oQMO97l5Pwnq",
        "outputId": "5ef4c245-85c0-4b14-9685-d63733e05181"
      },
      "execution_count": 4,
      "outputs": [
        {
          "output_type": "stream",
          "name": "stdout",
          "text": [
            "Done\n"
          ]
        }
      ]
    },
    {
      "cell_type": "markdown",
      "source": [
        "4 Print the comboLists and total count"
      ],
      "metadata": {
        "id": "-ZHXTVZkP3WK"
      }
    },
    {
      "cell_type": "code",
      "source": [
        "# Print all the sets whose sum is between LB and UB\n",
        "for r in ResultList:\n",
        "\tprint (r)\n",
        "\n",
        "# Print total sets\n",
        "print (\"\\nTotal Sets: \", len(ResultList), \"\\n\")"
      ],
      "metadata": {
        "colab": {
          "base_uri": "https://localhost:8080/"
        },
        "id": "w9SqDzmpP9lV",
        "outputId": "c3606769-8762-455b-b137-b68194d3c409"
      },
      "execution_count": 5,
      "outputs": [
        {
          "output_type": "stream",
          "name": "stdout",
          "text": [
            "('p1', 'p11', 'p5', 'p14', 'p9', 'p10', 'p3', 'p2')\n",
            "('p2', 'p12', 'p7', 'p6', 'p8', 'p3', 'p10')\n",
            "('p9', 'p4', 'p2', 'p10', 'p11', 'p13', 'p3')\n",
            "('p3', 'p4', 'p2', 'p13', 'p8', 'p5', 'p7', 'p10')\n",
            "('p6', 'p14', 'p2', 'p8', 'p11', 'p13', 'p3')\n",
            "('p14', 'p12', 'p5', 'p9', 'p7', 'p2', 'p4')\n",
            "('p8', 'p5', 'p11', 'p3', 'p4', 'p6', 'p1', 'p12')\n",
            "('p11', 'p2', 'p14', 'p3', 'p6', 'p10', 'p9')\n",
            "('p11', 'p1', 'p13', 'p5', 'p12', 'p10')\n",
            "('p5', 'p11', 'p9', 'p2', 'p14', 'p1', 'p3', 'p10')\n",
            "('p3', 'p6', 'p14', 'p13', 'p12', 'p7', 'p1')\n",
            "('p10', 'p14', 'p13', 'p9', 'p5', 'p6', 'p2')\n",
            "('p3', 'p6', 'p13', 'p5', 'p11', 'p1', 'p12')\n",
            "('p1', 'p5', 'p10', 'p9', 'p6', 'p7', 'p13')\n",
            "('p6', 'p5', 'p7', 'p13', 'p3', 'p14', 'p8')\n",
            "('p11', 'p1', 'p13', 'p5', 'p12', 'p4', 'p3')\n",
            "('p13', 'p5', 'p8', 'p3', 'p11', 'p10', 'p4')\n",
            "('p4', 'p8', 'p9', 'p11', 'p3', 'p1', 'p10', 'p6')\n",
            "('p7', 'p1', 'p10', 'p14', 'p12', 'p13')\n",
            "('p1', 'p5', 'p11', 'p14', 'p4', 'p10', 'p13')\n",
            "('p14', 'p13', 'p6', 'p9', 'p12', 'p4')\n",
            "('p1', 'p3', 'p13', 'p11', 'p8', 'p2', 'p12')\n",
            "('p12', 'p7', 'p4', 'p9', 'p10', 'p5')\n",
            "('p6', 'p8', 'p9', 'p5', 'p11', 'p13')\n",
            "('p9', 'p1', 'p8', 'p3', 'p11', 'p7', 'p4', 'p6')\n",
            "('p8', 'p7', 'p11', 'p9', 'p6', 'p3', 'p4')\n",
            "('p13', 'p10', 'p6', 'p9', 'p4', 'p11')\n",
            "('p9', 'p12', 'p8', 'p1', 'p10', 'p3', 'p14')\n",
            "('p7', 'p11', 'p5', 'p10', 'p14', 'p8')\n",
            "('p5', 'p10', 'p9', 'p4', 'p8', 'p1', 'p2', 'p7', 'p3')\n",
            "('p13', 'p7', 'p3', 'p4', 'p2', 'p5', 'p11', 'p6')\n",
            "('p11', 'p14', 'p12', 'p10', 'p3', 'p8')\n",
            "('p3', 'p7', 'p14', 'p5', 'p11', 'p9', 'p4')\n",
            "('p6', 'p11', 'p14', 'p8', 'p9', 'p3', 'p2', 'p4')\n",
            "('p14', 'p9', 'p8', 'p1', 'p6', 'p7', 'p11')\n",
            "('p2', 'p8', 'p6', 'p13', 'p9', 'p3', 'p12')\n",
            "('p3', 'p7', 'p10', 'p9', 'p8', 'p12')\n",
            "('p13', 'p6', 'p8', 'p7', 'p11', 'p5')\n",
            "('p5', 'p9', 'p6', 'p7', 'p8', 'p1', 'p11', 'p2')\n",
            "('p3', 'p1', 'p11', 'p9', 'p12', 'p8', 'p14')\n",
            "('p2', 'p1', 'p13', 'p10', 'p8', 'p7', 'p14')\n",
            "('p13', 'p12', 'p10', 'p4', 'p6', 'p14')\n",
            "('p12', 'p2', 'p1', 'p5', 'p14', 'p9', 'p4', 'p7')\n",
            "('p2', 'p1', 'p12', 'p11', 'p5', 'p13', 'p8')\n",
            "('p6', 'p13', 'p5', 'p2', 'p3', 'p11', 'p8', 'p4')\n",
            "('p8', 'p5', 'p2', 'p3', 'p14', 'p6', 'p7', 'p1', 'p11')\n",
            "('p5', 'p10', 'p12', 'p4', 'p9', 'p7', 'p1')\n",
            "('p3', 'p2', 'p8', 'p1', 'p9', 'p14', 'p11', 'p10')\n",
            "\n",
            "Total Sets:  48 \n",
            "\n"
          ]
        }
      ]
    },
    {
      "cell_type": "markdown",
      "source": [
        "5 Complete Program with sorting"
      ],
      "metadata": {
        "id": "2XNx4p7vQDeU"
      }
    },
    {
      "cell_type": "code",
      "source": [
        "#-------------------------------------------------------------\n",
        "# Step 1: Library inclusion\n",
        "#-------------------------------------------------------------\n",
        "import random as r\n",
        "\n",
        "\n",
        "#-------------------------------------------------------------\n",
        "# Step 2: Parameter Setting\n",
        "#-------------------------------------------------------------\n",
        "ProductList = {'p1':10, 'p2':15, 'p3':20, 'p4':25, 'p5':30, 'p6':35, 'p7':50,\n",
        "               'p8':40, 'p9':55, 'p10':60, 'p11':65, 'p12':75, 'p13':70,\n",
        "               'p14':45}\n",
        "LB          = 290\n",
        "UB          = 310\n",
        "ResultList  = set()   # Store Result List i.e. list of sets whose sum is between 90 and 210.\n",
        "Iterations  = 1000    # Number of Inerations\n",
        "\n",
        "\n",
        "#-------------------------------------------------------------\n",
        "# Step3: Start Program\n",
        "#-------------------------------------------------------------\n",
        "for i in range(Iterations):\n",
        "\n",
        "    # Select combo size (i.e. number of products in a combo)\n",
        "    SetSize = r.randint(2, len(ProductList)-1)\n",
        "\n",
        "    # Select number of elements from Set\n",
        "    ComboList = r.sample(list(ProductList.keys()),SetSize)\n",
        "    ComboList.sort()\n",
        "\n",
        "    # Sum the products in ColboList\n",
        "    ComboSum = sum([ ProductList[i] for i in ComboList])\n",
        "\n",
        "    # Check the Sum Between LB and UB\n",
        "    if ComboSum>= LB and ComboSum<= UB:\n",
        "      ResultList.add(tuple(ComboList))\n",
        "\n",
        "\n",
        "# Print all the sets whose sum is between LB and UB\n",
        "for r in ResultList:\n",
        "\tprint (r)\n",
        "\n",
        "# Print total sets\n",
        "print (\"\\nTotal Sets: \", len(ResultList), \"\\n\")\n"
      ],
      "metadata": {
        "colab": {
          "base_uri": "https://localhost:8080/"
        },
        "id": "dKX-ZsM5QIDv",
        "outputId": "a3165bdb-3b00-476d-9929-4821febe1908"
      },
      "execution_count": 6,
      "outputs": [
        {
          "output_type": "stream",
          "name": "stdout",
          "text": [
            "('p10', 'p11', 'p14', 'p2', 'p3', 'p5', 'p6', 'p8')\n",
            "('p13', 'p14', 'p2', 'p3', 'p4', 'p5', 'p8', 'p9')\n",
            "('p10', 'p12', 'p13', 'p2', 'p3', 'p7')\n",
            "('p11', 'p13', 'p3', 'p4', 'p5', 'p6', 'p7')\n",
            "('p11', 'p14', 'p3', 'p6', 'p7', 'p8', 'p9')\n",
            "('p10', 'p12', 'p13', 'p4', 'p5', 'p7')\n",
            "('p10', 'p14', 'p3', 'p5', 'p6', 'p7', 'p9')\n",
            "('p10', 'p12', 'p13', 'p14', 'p3', 'p4')\n",
            "('p11', 'p13', 'p5', 'p7', 'p8', 'p9')\n",
            "('p12', 'p3', 'p5', 'p6', 'p7', 'p8', 'p9')\n",
            "('p10', 'p11', 'p13', 'p14', 'p5', 'p6')\n",
            "('p10', 'p11', 'p2', 'p3', 'p4', 'p5', 'p6', 'p7')\n",
            "('p10', 'p12', 'p13', 'p2', 'p3', 'p5', 'p6')\n",
            "('p10', 'p13', 'p5', 'p6', 'p7', 'p9')\n",
            "('p10', 'p11', 'p13', 'p14', 'p3', 'p6')\n",
            "('p10', 'p11', 'p2', 'p3', 'p4', 'p7', 'p9')\n",
            "('p1', 'p10', 'p11', 'p3', 'p5', 'p7', 'p9')\n",
            "('p1', 'p11', 'p13', 'p14', 'p2', 'p3', 'p4', 'p7')\n",
            "('p10', 'p13', 'p14', 'p2', 'p5', 'p7', 'p8')\n",
            "('p1', 'p12', 'p13', 'p2', 'p3', 'p4', 'p5', 'p9')\n",
            "('p1', 'p13', 'p14', 'p2', 'p4', 'p6', 'p8', 'p9')\n",
            "('p10', 'p11', 'p12', 'p2', 'p4', 'p5', 'p6')\n",
            "('p11', 'p12', 'p13', 'p4', 'p5', 'p8')\n",
            "('p10', 'p11', 'p13', 'p3', 'p6', 'p9')\n",
            "('p10', 'p11', 'p12', 'p3', 'p7', 'p8')\n",
            "('p11', 'p12', 'p13', 'p2', 'p5', 'p9')\n",
            "('p12', 'p13', 'p14', 'p5', 'p6', 'p9')\n",
            "('p10', 'p13', 'p2', 'p7', 'p8', 'p9')\n",
            "('p1', 'p13', 'p14', 'p2', 'p4', 'p6', 'p7', 'p9')\n",
            "('p11', 'p12', 'p14', 'p3', 'p4', 'p6', 'p8')\n",
            "('p10', 'p12', 'p13', 'p6', 'p7')\n",
            "('p1', 'p10', 'p14', 'p2', 'p3', 'p4', 'p5', 'p7', 'p9')\n",
            "('p12', 'p13', 'p14', 'p4', 'p6', 'p9')\n",
            "('p13', 'p14', 'p2', 'p6', 'p7', 'p8', 'p9')\n",
            "('p11', 'p12', 'p2', 'p3', 'p6', 'p7', 'p8')\n",
            "('p1', 'p12', 'p14', 'p3', 'p4', 'p6', 'p8', 'p9')\n",
            "('p1', 'p11', 'p12', 'p14', 'p4', 'p7', 'p8')\n",
            "('p1', 'p10', 'p12', 'p13', 'p3', 'p5', 'p6')\n",
            "('p12', 'p13', 'p2', 'p3', 'p5', 'p6', 'p7')\n",
            "('p11', 'p12', 'p14', 'p2', 'p4', 'p6', 'p7')\n",
            "('p1', 'p12', 'p13', 'p4', 'p5', 'p8', 'p9')\n",
            "('p1', 'p11', 'p13', 'p2', 'p3', 'p6', 'p8', 'p9')\n",
            "('p1', 'p10', 'p11', 'p12', 'p14', 'p2', 'p3')\n",
            "('p12', 'p14', 'p3', 'p4', 'p5', 'p7', 'p9')\n",
            "\n",
            "Total Sets:  44 \n",
            "\n"
          ]
        }
      ]
    },
    {
      "cell_type": "markdown",
      "source": [],
      "metadata": {
        "id": "dJgXm7YWQPBY"
      }
    },
    {
      "cell_type": "markdown",
      "source": [
        "**problem statement**"
      ],
      "metadata": {
        "id": "Us9oNBHk_HJq"
      }
    },
    {
      "cell_type": "code",
      "source": [
        "from itertools import combinations\n",
        "\n",
        "# Product list with prices\n",
        "ProductList = {'p1': 10, 'p2': 15, 'p3': 20, 'p4': 25, 'p5': 30, 'p6': 35, 'p7': 50}\n",
        "\n",
        "# List of product names\n",
        "products = list(ProductList.keys())\n",
        "\n",
        "# Target price range\n",
        "min_price = 290\n",
        "max_price = 310\n",
        "\n",
        "# Flag to track if any combination is found\n",
        "found = False\n",
        "\n",
        "print(\"Valid Product Combinations (Total Price Between 290 and 310):\\n\")\n",
        "\n",
        "# Iterate through all possible non-empty combinations\n",
        "for r in range(1, len(products) + 1):\n",
        "    for combo in combinations(products, r):\n",
        "        total = sum(ProductList[p] for p in combo)\n",
        "        if min_price <= total <= max_price:\n",
        "            found = True\n",
        "            items = \", \".join(combo)\n",
        "            print(f\"Combo: [{items}]  →  Total Price: {total}\")\n",
        "\n",
        "# Handle case where no combination is found\n",
        "if not found:\n",
        "    print(\"No valid product combination found within the given price range.\")\n"
      ],
      "metadata": {
        "id": "4L0dCBqT-vGw",
        "outputId": "2f928b83-c98c-4580-fecc-098e84a4e8c6",
        "colab": {
          "base_uri": "https://localhost:8080/"
        }
      },
      "execution_count": 7,
      "outputs": [
        {
          "output_type": "stream",
          "name": "stdout",
          "text": [
            "Valid Product Combinations (Total Price Between 290 and 310):\n",
            "\n",
            "No valid product combination found within the given price range.\n"
          ]
        }
      ]
    }
  ]
}